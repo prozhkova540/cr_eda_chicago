{
 "cells": [
  {
   "cell_type": "code",
   "execution_count": null,
   "id": "4d8b2364",
   "metadata": {},
   "outputs": [],
   "source": []
  }
 ],
 "metadata": {
  "kernelspec": {
   "display_name": "Python (pr_qa_env)",
   "language": "python",
   "name": "pr_qa_env"
  }
 },
 "nbformat": 4,
 "nbformat_minor": 5
}
