{
 "cells": [
  {
   "cell_type": "code",
   "execution_count": null,
   "id": "ebe7093e",
   "metadata": {},
   "outputs": [],
   "source": [
    "import pandas as pd\n",
    "import os\n",
    "import seaborn as sns\n",
    "import matplotlib.pyplot as plt"
   ]
  },
  {
   "cell_type": "code",
   "execution_count": null,
   "id": "8e23f326",
   "metadata": {},
   "outputs": [],
   "source": [
    "path = r'/Users/polinarozhkova/Desktop/GitHub/cr_eda_chicago/'\n",
    "final_merge_df = pd.read_csv(os.path.join(path, 'clean_data/merge_all.csv'))\n",
    "cr_reports = pd.read_excel(os.path.join(path, 'inputs/CR_from_CPD_Annual_Reports_copy.xlsx'))"
   ]
  },
  {
   "cell_type": "markdown",
   "id": "4a208a60",
   "metadata": {},
   "source": [
    "### Plot 1"
   ]
  },
  {
   "cell_type": "code",
   "execution_count": null,
   "id": "07e5a737",
   "metadata": {},
   "outputs": [],
   "source": [
    "yr_month_map = pd.DataFrame(final_merge_df.groupby(['year', 'month'])\n",
    "                            ['case_number'].count()).reset_index()\n",
    "yr_month_map = yr_month_map.rename(\n",
    "    columns={'case_number': 'homicides'}).pivot('year', 'month', 'homicides')"
   ]
  },
  {
   "cell_type": "code",
   "execution_count": null,
   "id": "7cc26a9d",
   "metadata": {},
   "outputs": [],
   "source": [
    "fig, ax = plt.subplots(figsize=(10, 10))\n",
    "sns.heatmap(yr_month_map, cmap='RdYlGn_r',\n",
    "            cbar_kws={'label': 'Count'})\n",
    "ax.set_yticklabels(ax.get_yticklabels(), rotation=0, fontsize=10)\n",
    "ax.set_xticklabels(ax.get_xticklabels(), rotation=0, fontsize=10)\n",
    "ax.set_xlabel('Month')\n",
    "ax.set_ylabel('Year')\n",
    "plt.title('Homicide Count in Chicago 2001 - 2021', fontdict={'fontsize': 12}, pad=14)\n",
    "plt.savefig(os.path.join(path, 'plots/static_plot_1.png'))"
   ]
  },
  {
   "cell_type": "code",
   "execution_count": null,
   "id": "1202ec21",
   "metadata": {},
   "outputs": [],
   "source": [
    "all_cleared_df = final_merge_df[final_merge_df['cleared'] == 'Y']"
   ]
  },
  {
   "cell_type": "markdown",
   "id": "8fee1a9b",
   "metadata": {},
   "source": [
    "### Plot 2"
   ]
  },
  {
   "cell_type": "code",
   "execution_count": null,
   "id": "e6db74d6",
   "metadata": {},
   "outputs": [],
   "source": [
    "# all homicides and clearances\n",
    "total_hom_yr = pd.DataFrame(final_merge_df.groupby(['year'])['case_number'].count()).reset_index()\n",
    "clr_yr = pd.DataFrame(all_cleared_df.groupby(['year'])['case_number'].count()).reset_index()\n",
    "total_commit_cleared = pd.merge(clr_yr, total_hom_yr, on=['year']).rename(\n",
    "    columns={'case_number_y': 'hom_total', 'case_number_x': 'clear_total'})"
   ]
  },
  {
   "cell_type": "code",
   "execution_count": null,
   "id": "8a061de3",
   "metadata": {},
   "outputs": [],
   "source": [
    "# firearm homicides and firearm clearances\n",
    "firearm = pd.DataFrame(final_merge_df.groupby(['year'])['gunshot_injury_i'].\n",
    "                       apply(lambda x: (x == 'YES').sum())).reset_index()\n",
    "firearm_clr = pd.DataFrame(all_cleared_df.groupby(['year'])['gunshot_injury_i'].\n",
    "                           apply(lambda x: (x == 'YES').sum())).reset_index()\n",
    "total_firearm = pd.merge(firearm, firearm_clr, on=['year']).rename(\n",
    "    columns={'gunshot_injury_i_x': 'firearm_total', 'gunshot_injury_i_y': 'firearm_clear'})"
   ]
  },
  {
   "cell_type": "code",
   "execution_count": null,
   "id": "ab2f3bd7",
   "metadata": {},
   "outputs": [],
   "source": [
    "dv = pd.DataFrame(final_merge_df.groupby(['year'])['domestic'].\n",
    "                  apply(lambda x: (x == True).sum())).reset_index()\n",
    "dv_clr = pd.DataFrame(all_cleared_df.groupby(['year'])['domestic'].\n",
    "                      apply(lambda x: (x == True).sum())).reset_index()\n",
    "total_dv = pd.merge(dv, dv_clr, on=['year']).rename(\n",
    "    columns={'domestic_x': 'dv_total', 'domestic_y': 'dv_clear'})"
   ]
  },
  {
   "cell_type": "code",
   "execution_count": null,
   "id": "d616910b",
   "metadata": {},
   "outputs": [],
   "source": [
    "total_commit_cleared = pd.melt(total_commit_cleared, id_vars=['year'],\n",
    "                               value_vars=['hom_total', 'clear_total'],\n",
    "                               var_name='case_status', value_name='Count')"
   ]
  },
  {
   "cell_type": "code",
   "execution_count": null,
   "id": "41f30c1b",
   "metadata": {},
   "outputs": [],
   "source": [
    "total_firearm = pd.melt(total_firearm, id_vars=['year'],\n",
    "                        value_vars=['firearm_total', 'firearm_clear'],\n",
    "                        var_name='case_status', value_name='Count')"
   ]
  },
  {
   "cell_type": "code",
   "execution_count": null,
   "id": "68014c6d",
   "metadata": {},
   "outputs": [],
   "source": [
    "total_dv = pd.melt(total_dv, id_vars=['year'], value_vars=['dv_total', 'dv_clear'],\n",
    "                   var_name='case_status', value_name='Count')"
   ]
  },
  {
   "cell_type": "code",
   "execution_count": null,
   "id": "7203bff1",
   "metadata": {},
   "outputs": [],
   "source": [
    "def line_subplots(df, ax_n):\n",
    "    plt.rcParams.update({'font.size': 9})\n",
    "    sns.set_style(\"darkgrid\")\n",
    "    sns.lineplot(data=df, x='year', y='Count',\n",
    "                 hue='case_status', ax=ax_n, linewidth=0.75, palette=['#34495e', '#3498db'])\n",
    "    ax_n.legend(loc='best')\n",
    "    ax_n.set_xlabel('Year')\n",
    "    ax_n.set_ylabel('Count')\n",
    "    ax_n.set_xticks(range(2001, 2022))\n",
    "    return"
   ]
  },
  {
   "cell_type": "code",
   "execution_count": null,
   "id": "de990154",
   "metadata": {},
   "outputs": [],
   "source": [
    "def plot_annotate(ax_n, y1, y2, y3):\n",
    "    style = dict(size=10, color='red', alpha=0.75)\n",
    "    ax_n.axvline(2001, linestyle='dashed', color='red', alpha=0.25)\n",
    "    ax_n.axvline(2008, linestyle='dashed', color='red', alpha=0.25)\n",
    "    ax_n.axvline(2020, linestyle='dashed', color='red', alpha=0.25)\n",
    "    ax_n.text(2001, y1, '  9/11 Attack', ha='left',  **style)\n",
    "    ax_n.text(2008, y2, 'Financial Crisis Starts  ', ha='right',  **style)\n",
    "    ax_n.text(2020, y3, 'Covid-19 Lockdown  ', ha='right',  **style)\n",
    "    return"
   ]
  },
  {
   "cell_type": "code",
   "execution_count": null,
   "id": "0cd664ab",
   "metadata": {},
   "outputs": [],
   "source": [
    "fig, axes = plt.subplots(nrows=3, ncols=1, figsize=(12, 15))\n",
    "ax1, ax2, ax3 = axes.flatten()\n",
    "line_subplots(total_commit_cleared, ax1)\n",
    "line_subplots(total_firearm, ax2)\n",
    "line_subplots(total_dv, ax3)\n",
    "plot_annotate(ax1, 750, 650, 750)\n",
    "plot_annotate(ax2, 700, 600, 700)\n",
    "plot_annotate(ax3, 56, 52, 56)\n",
    "ax1.set_title('Total Homicides')\n",
    "ax2.set_title('Homicides Involving Firearms')\n",
    "ax3.set_title('Domestic Violence Homicides')\n",
    "plt.savefig(os.path.join(path, 'plots/static_plot_2.png'))"
   ]
  },
  {
   "cell_type": "markdown",
   "id": "e0057308",
   "metadata": {},
   "source": [
    "Sources:\n",
    "For heatmap: https://seaborn.pydata.org/generated/seaborn.heatmap.html;\n",
    "https://regenerativetoday.com/time-series-data-visualization-in-python/,\n",
    "For annotations:\n",
    "https://jessica-miles.medium.com/adding-annotations-to-visualizations-using-matplotlib-279e9c770baa\n",
    "https://matplotlib.org/stable/api/_as_gen/matplotlib.pyplot.axvline.html"
   ]
  },
  {
   "cell_type": "code",
   "execution_count": null,
   "id": "d042a439",
   "metadata": {},
   "outputs": [],
   "source": []
  }
 ],
 "metadata": {
  "kernelspec": {
   "display_name": "Python 3 (ipykernel)",
   "language": "python",
   "name": "python3"
  },
  "language_info": {
   "codemirror_mode": {
    "name": "ipython",
    "version": 3
   },
   "file_extension": ".py",
   "mimetype": "text/x-python",
   "name": "python",
   "nbconvert_exporter": "python",
   "pygments_lexer": "ipython3",
   "version": "3.9.12"
  }
 },
 "nbformat": 4,
 "nbformat_minor": 5
}
