{
 "cells": [
  {
   "cell_type": "code",
   "execution_count": 1,
   "id": "e71361fd",
   "metadata": {},
   "outputs": [],
   "source": [
    "import pandas as pd\n",
    "import os\n",
    "import seaborn as sns\n",
    "import matplotlib.pyplot as plt\n",
    "from datetime import datetime"
   ]
  },
  {
   "cell_type": "code",
   "execution_count": 2,
   "id": "b5414b1a",
   "metadata": {},
   "outputs": [],
   "source": [
    "path = r'/Users/polinarozhkova/Desktop/GitHub/cr_eda_chicago/'\n",
    "final_merge_df = pd.read_csv(os.path.join(path, 'clean_data/merge_all.csv'))\n",
    "cr_reports = pd.read_excel(os.path.join(path, 'inputs/CR_from_CPD_Annual_Reports_copy.xlsx'))\n",
    "foia_df = 'inputs/FOIA_2019_to_2021_Clearance_Rates_Shooting_Homicides.xlsx'\n",
    "foia_hom = pd.read_excel((os.path.join(path, foia_df)), sheet_name=2)"
   ]
  },
  {
   "cell_type": "code",
   "execution_count": 7,
   "id": "9f37b311",
   "metadata": {},
   "outputs": [
    {
     "data": {
      "text/html": [
       "<div>\n",
       "<style scoped>\n",
       "    .dataframe tbody tr th:only-of-type {\n",
       "        vertical-align: middle;\n",
       "    }\n",
       "\n",
       "    .dataframe tbody tr th {\n",
       "        vertical-align: top;\n",
       "    }\n",
       "\n",
       "    .dataframe thead th {\n",
       "        text-align: right;\n",
       "    }\n",
       "</style>\n",
       "<table border=\"1\" class=\"dataframe\">\n",
       "  <thead>\n",
       "    <tr style=\"text-align: right;\">\n",
       "      <th></th>\n",
       "      <th>source</th>\n",
       "      <th>year</th>\n",
       "      <th>homicide_count</th>\n",
       "      <th>total_cleared</th>\n",
       "      <th>clearance_rate</th>\n",
       "      <th>firearm</th>\n",
       "    </tr>\n",
       "  </thead>\n",
       "  <tbody>\n",
       "    <tr>\n",
       "      <th>0</th>\n",
       "      <td>CPD Annual Report for 2001</td>\n",
       "      <td>2000</td>\n",
       "      <td>631</td>\n",
       "      <td>335.0</td>\n",
       "      <td>0.530903</td>\n",
       "      <td>471</td>\n",
       "    </tr>\n",
       "    <tr>\n",
       "      <th>1</th>\n",
       "      <td>CPD Annual Report for 2001</td>\n",
       "      <td>2001</td>\n",
       "      <td>666</td>\n",
       "      <td>361.0</td>\n",
       "      <td>0.542042</td>\n",
       "      <td>514</td>\n",
       "    </tr>\n",
       "    <tr>\n",
       "      <th>2</th>\n",
       "      <td>CPD Annual Report for 2002</td>\n",
       "      <td>2002</td>\n",
       "      <td>648</td>\n",
       "      <td>301.0</td>\n",
       "      <td>0.464506</td>\n",
       "      <td>513</td>\n",
       "    </tr>\n",
       "    <tr>\n",
       "      <th>3</th>\n",
       "      <td>CPD Annual Report for 2003</td>\n",
       "      <td>2003</td>\n",
       "      <td>600</td>\n",
       "      <td>304.0</td>\n",
       "      <td>0.506667</td>\n",
       "      <td>485</td>\n",
       "    </tr>\n",
       "    <tr>\n",
       "      <th>4</th>\n",
       "      <td>CPD Annual Report for 2004</td>\n",
       "      <td>2004</td>\n",
       "      <td>448</td>\n",
       "      <td>234.0</td>\n",
       "      <td>0.522321</td>\n",
       "      <td>337</td>\n",
       "    </tr>\n",
       "    <tr>\n",
       "      <th>5</th>\n",
       "      <td>CPD Annual Report for 2005</td>\n",
       "      <td>2005</td>\n",
       "      <td>448</td>\n",
       "      <td>195.0</td>\n",
       "      <td>0.435268</td>\n",
       "      <td>339</td>\n",
       "    </tr>\n",
       "    <tr>\n",
       "      <th>6</th>\n",
       "      <td>CPD Annual Report for 2006</td>\n",
       "      <td>2006</td>\n",
       "      <td>467</td>\n",
       "      <td>181.0</td>\n",
       "      <td>0.387580</td>\n",
       "      <td>385</td>\n",
       "    </tr>\n",
       "    <tr>\n",
       "      <th>7</th>\n",
       "      <td>CPD Annual Report for 2007</td>\n",
       "      <td>2007</td>\n",
       "      <td>442</td>\n",
       "      <td>175.0</td>\n",
       "      <td>0.395928</td>\n",
       "      <td>325</td>\n",
       "    </tr>\n",
       "    <tr>\n",
       "      <th>8</th>\n",
       "      <td>CPD Annual Report for 2008</td>\n",
       "      <td>2008</td>\n",
       "      <td>510</td>\n",
       "      <td>181.0</td>\n",
       "      <td>0.354902</td>\n",
       "      <td>412</td>\n",
       "    </tr>\n",
       "    <tr>\n",
       "      <th>9</th>\n",
       "      <td>CPD Annual Report for 2009</td>\n",
       "      <td>2009</td>\n",
       "      <td>461</td>\n",
       "      <td>160.0</td>\n",
       "      <td>0.347072</td>\n",
       "      <td>376</td>\n",
       "    </tr>\n",
       "    <tr>\n",
       "      <th>10</th>\n",
       "      <td>CPD Annual Report for 2010</td>\n",
       "      <td>2010</td>\n",
       "      <td>437</td>\n",
       "      <td>148.0</td>\n",
       "      <td>0.338673</td>\n",
       "      <td>354</td>\n",
       "    </tr>\n",
       "    <tr>\n",
       "      <th>11</th>\n",
       "      <td>CPD Murder Report for 2011</td>\n",
       "      <td>2011</td>\n",
       "      <td>433</td>\n",
       "      <td>214.0</td>\n",
       "      <td>0.494226</td>\n",
       "      <td>361</td>\n",
       "    </tr>\n",
       "    <tr>\n",
       "      <th>12</th>\n",
       "      <td>UCR FBI Crime Data Explorer</td>\n",
       "      <td>2012</td>\n",
       "      <td>500</td>\n",
       "      <td>NaN</td>\n",
       "      <td>NaN</td>\n",
       "      <td>405</td>\n",
       "    </tr>\n",
       "    <tr>\n",
       "      <th>13</th>\n",
       "      <td>UCR FBI Crime Data Explorer</td>\n",
       "      <td>2013</td>\n",
       "      <td>414</td>\n",
       "      <td>NaN</td>\n",
       "      <td>NaN</td>\n",
       "      <td>337</td>\n",
       "    </tr>\n",
       "    <tr>\n",
       "      <th>14</th>\n",
       "      <td>2019 Perf Report</td>\n",
       "      <td>2014</td>\n",
       "      <td>420</td>\n",
       "      <td>211.0</td>\n",
       "      <td>0.502381</td>\n",
       "      <td>353</td>\n",
       "    </tr>\n",
       "    <tr>\n",
       "      <th>15</th>\n",
       "      <td>2019 Perf Report</td>\n",
       "      <td>2015</td>\n",
       "      <td>491</td>\n",
       "      <td>227.0</td>\n",
       "      <td>0.462322</td>\n",
       "      <td>404</td>\n",
       "    </tr>\n",
       "    <tr>\n",
       "      <th>16</th>\n",
       "      <td>CPD Annual Report for 2017</td>\n",
       "      <td>2016</td>\n",
       "      <td>769</td>\n",
       "      <td>219.0</td>\n",
       "      <td>0.284785</td>\n",
       "      <td>691</td>\n",
       "    </tr>\n",
       "    <tr>\n",
       "      <th>17</th>\n",
       "      <td>CPD Annual Report for 2017</td>\n",
       "      <td>2017</td>\n",
       "      <td>653</td>\n",
       "      <td>227.0</td>\n",
       "      <td>0.347626</td>\n",
       "      <td>603</td>\n",
       "    </tr>\n",
       "    <tr>\n",
       "      <th>18</th>\n",
       "      <td>CPD Annual Report for 2018</td>\n",
       "      <td>2018</td>\n",
       "      <td>565</td>\n",
       "      <td>251.0</td>\n",
       "      <td>0.444248</td>\n",
       "      <td>475</td>\n",
       "    </tr>\n",
       "    <tr>\n",
       "      <th>19</th>\n",
       "      <td>CPD Annual Report for 2019</td>\n",
       "      <td>2019</td>\n",
       "      <td>492</td>\n",
       "      <td>265.0</td>\n",
       "      <td>0.538618</td>\n",
       "      <td>442</td>\n",
       "    </tr>\n",
       "    <tr>\n",
       "      <th>20</th>\n",
       "      <td>CPD Annual Report for 2020</td>\n",
       "      <td>2020</td>\n",
       "      <td>770</td>\n",
       "      <td>354.0</td>\n",
       "      <td>0.459740</td>\n",
       "      <td>692</td>\n",
       "    </tr>\n",
       "    <tr>\n",
       "      <th>21</th>\n",
       "      <td>CPD Annual Report for 2021</td>\n",
       "      <td>2021</td>\n",
       "      <td>800</td>\n",
       "      <td>400.0</td>\n",
       "      <td>0.500000</td>\n",
       "      <td>745</td>\n",
       "    </tr>\n",
       "  </tbody>\n",
       "</table>\n",
       "</div>"
      ],
      "text/plain": [
       "                         source   year  homicide_count  total_cleared  \\\n",
       "0     CPD Annual Report for 2001  2000             631          335.0   \n",
       "1     CPD Annual Report for 2001  2001             666          361.0   \n",
       "2     CPD Annual Report for 2002  2002             648          301.0   \n",
       "3     CPD Annual Report for 2003  2003             600          304.0   \n",
       "4     CPD Annual Report for 2004  2004             448          234.0   \n",
       "5     CPD Annual Report for 2005  2005             448          195.0   \n",
       "6     CPD Annual Report for 2006  2006             467          181.0   \n",
       "7     CPD Annual Report for 2007  2007             442          175.0   \n",
       "8     CPD Annual Report for 2008  2008             510          181.0   \n",
       "9     CPD Annual Report for 2009  2009             461          160.0   \n",
       "10    CPD Annual Report for 2010  2010             437          148.0   \n",
       "11    CPD Murder Report for 2011  2011             433          214.0   \n",
       "12  UCR FBI Crime Data Explorer   2012             500            NaN   \n",
       "13  UCR FBI Crime Data Explorer   2013             414            NaN   \n",
       "14              2019 Perf Report  2014             420          211.0   \n",
       "15              2019 Perf Report  2015             491          227.0   \n",
       "16    CPD Annual Report for 2017  2016             769          219.0   \n",
       "17    CPD Annual Report for 2017  2017             653          227.0   \n",
       "18    CPD Annual Report for 2018  2018             565          251.0   \n",
       "19    CPD Annual Report for 2019  2019             492          265.0   \n",
       "20    CPD Annual Report for 2020  2020             770          354.0   \n",
       "21    CPD Annual Report for 2021  2021             800          400.0   \n",
       "\n",
       "    clearance_rate  firearm  \n",
       "0         0.530903      471  \n",
       "1         0.542042      514  \n",
       "2         0.464506      513  \n",
       "3         0.506667      485  \n",
       "4         0.522321      337  \n",
       "5         0.435268      339  \n",
       "6         0.387580      385  \n",
       "7         0.395928      325  \n",
       "8         0.354902      412  \n",
       "9         0.347072      376  \n",
       "10        0.338673      354  \n",
       "11        0.494226      361  \n",
       "12             NaN      405  \n",
       "13             NaN      337  \n",
       "14        0.502381      353  \n",
       "15        0.462322      404  \n",
       "16        0.284785      691  \n",
       "17        0.347626      603  \n",
       "18        0.444248      475  \n",
       "19        0.538618      442  \n",
       "20        0.459740      692  \n",
       "21        0.500000      745  "
      ]
     },
     "execution_count": 7,
     "metadata": {},
     "output_type": "execute_result"
    }
   ],
   "source": [
    "cr_reports"
   ]
  },
  {
   "cell_type": "raw",
   "id": "0c6ce5b1",
   "metadata": {
    "scrolled": true
   },
   "source": [
    "final_merge_df"
   ]
  },
  {
   "cell_type": "code",
   "execution_count": null,
   "id": "fef9ea31",
   "metadata": {},
   "outputs": [],
   "source": []
  },
  {
   "cell_type": "code",
   "execution_count": null,
   "id": "303c48fe",
   "metadata": {},
   "outputs": [],
   "source": [
    "all_cleared_df = final_merge_df[final_merge_df['cleared'] == 'Y']"
   ]
  },
  {
   "cell_type": "code",
   "execution_count": null,
   "id": "fc3b0d79",
   "metadata": {},
   "outputs": [],
   "source": []
  },
  {
   "cell_type": "code",
   "execution_count": null,
   "id": "17b3991c",
   "metadata": {},
   "outputs": [],
   "source": [
    "foia_hom['year_clear'] = foia_hom['DATE CLEARED'].dt.year\n",
    "foia_hom['year'] = foia_hom['INJURY DATE'].dt.year\n",
    "\n",
    "hom_year_df = pd.DataFrame(\n",
    "    foia_hom.groupby(['year_clear', 'year', 'CLEARED'])['RD'].count()).reset_index()\n",
    "\n",
    "clear_year_df = pd.DataFrame(\n",
    "    foia_hom.groupby(['year_clear', 'CLEARED'])['RD'].count()).reset_index()\n",
    "\n",
    "except_clear_year = pd.DataFrame(\n",
    "    foia_hom.groupby(['year_clear', 'CLEARED', 'CLEARED EXCEPTIONALLY'])\n",
    "    ['RD'].count()).reset_index()"
   ]
  },
  {
   "cell_type": "markdown",
   "id": "eb5ee0d8",
   "metadata": {},
   "source": [
    "### Plot 1"
   ]
  },
  {
   "cell_type": "code",
   "execution_count": 7,
   "id": "7f2b3ad6",
   "metadata": {},
   "outputs": [],
   "source": [
    "yr_month_map = pd.DataFrame(final_merge_df.groupby(['year', 'month'])\n",
    "                            ['case_number'].count()).reset_index()\n",
    "yr_month_map = yr_month_map.rename(\n",
    "    columns={'case_number': 'homicides'}).pivot('year', 'month', 'homicides')"
   ]
  },
  {
   "cell_type": "code",
   "execution_count": 8,
   "id": "cb69c191",
   "metadata": {
    "scrolled": true
   },
   "outputs": [
    {
     "data": {
      "image/png": "[encoded data removed]",
      "text/plain": [
       "<Figure size 1000x1000 with 2 Axes>"
      ]
     },
     "metadata": {},
     "output_type": "display_data"
    }
   ],
   "source": [
    "fig, ax = plt.subplots(figsize=(10, 10))\n",
    "sns.heatmap(yr_month_map, cmap='RdYlGn_r',\n",
    "            cbar_kws={'label': 'Count'})\n",
    "ax.set_yticklabels(ax.get_yticklabels(), rotation=0, fontsize=10)\n",
    "ax.set_xticklabels(ax.get_xticklabels(), rotation=0, fontsize=10)\n",
    "ax.set_xlabel('Month')\n",
    "ax.set_ylabel('Year')\n",
    "plt.title('Homicide Count in Chicago 2001 - 2021', fontdict={'fontsize': 12}, pad=14)\n",
    "plt.savefig(os.path.join(path, 'plots/static_plot_1.png'))"
   ]
  },
  {
   "cell_type": "markdown",
   "id": "48e1d313",
   "metadata": {},
   "source": [
    "### Time to Clearance"
   ]
  },
  {
   "cell_type": "code",
   "execution_count": null,
   "id": "a3a1cf5b",
   "metadata": {
    "scrolled": true
   },
   "outputs": [],
   "source": [
    "all_cleared_df['time_to_clear'].describe()"
   ]
  },
  {
   "cell_type": "code",
   "execution_count": null,
   "id": "c72682ee",
   "metadata": {
    "scrolled": true
   },
   "outputs": [],
   "source": [
    "all_cleared_df['time_to_clear'].sort_values()"
   ]
  },
  {
   "cell_type": "markdown",
   "id": "6a0ed0c8",
   "metadata": {},
   "source": [
    "Dropping incidents that were cleared immediately and likely administrative error of -17 days: "
   ]
  },
  {
   "cell_type": "code",
   "execution_count": null,
   "id": "bae60828",
   "metadata": {},
   "outputs": [],
   "source": [
    "all_cleared_df = all_cleared_df[all_cleared_df['time_to_clear'] > 0]"
   ]
  },
  {
   "cell_type": "code",
   "execution_count": null,
   "id": "c58a9776",
   "metadata": {},
   "outputs": [],
   "source": [
    "sns.histplot(data=all_cleared_df, x='time_to_clear', stat='count', bins='auto', cumulative=False)"
   ]
  },
  {
   "cell_type": "code",
   "execution_count": null,
   "id": "9a3bb118",
   "metadata": {
    "scrolled": true
   },
   "outputs": [],
   "source": [
    "cleared_fem = all_cleared_df[all_cleared_df['sex'] == 'F']\n",
    "cleared_fem"
   ]
  },
  {
   "cell_type": "markdown",
   "id": "72b327d3",
   "metadata": {},
   "source": [
    "### Plot 2"
   ]
  },
  {
   "cell_type": "code",
   "execution_count": null,
   "id": "41f756ec",
   "metadata": {},
   "outputs": [],
   "source": [
    "sns.barplot(x = “species”, y = “flipper_length_mm”, \n",
    "            data = data, hue = “sex”)"
   ]
  },
  {
   "cell_type": "code",
   "execution_count": null,
   "id": "681b8c2d",
   "metadata": {},
   "outputs": [],
   "source": []
  },
  {
   "cell_type": "code",
   "execution_count": null,
   "id": "58bc41cb",
   "metadata": {},
   "outputs": [],
   "source": [
    "# all homicides and clearances\n",
    "total_hom_yr = pd.DataFrame(final_merge_df.groupby(['year'])['case_number'].count()).reset_index()\n",
    "clr_yr = pd.DataFrame(all_cleared_df.groupby(['year'])['case_number'].count()).reset_index()\n",
    "total_commit_cleared = pd.merge(clr_yr, total_hom_yr, on=['year']).rename(\n",
    "    columns={'case_number_y': 'hom_total', 'case_number_x': 'clear_total'})"
   ]
  },
  {
   "cell_type": "code",
   "execution_count": null,
   "id": "7b636c79",
   "metadata": {},
   "outputs": [],
   "source": [
    "# firearm homicides and firearm clearances\n",
    "firearm = pd.DataFrame(final_merge_df.groupby(['year'])['gunshot_injury_i'].\n",
    "                       apply(lambda x: (x == 'YES').sum())).reset_index()\n",
    "firearm_clr = pd.DataFrame(all_cleared_df.groupby(['year'])['gunshot_injury_i'].\n",
    "                           apply(lambda x: (x == 'YES').sum())).reset_index()\n",
    "total_firearm = pd.merge(firearm, firearm_clr, on=['year']).rename(\n",
    "    columns={'gunshot_injury_i_x': 'firearm_total', 'gunshot_injury_i_y': 'firearm_clear'})"
   ]
  },
  {
   "cell_type": "code",
   "execution_count": null,
   "id": "cf1938b3",
   "metadata": {},
   "outputs": [],
   "source": [
    "dv = pd.DataFrame(final_merge_df.groupby(['year'])['domestic'].\n",
    "                  apply(lambda x: (x == True).sum())).reset_index()\n",
    "dv_clr = pd.DataFrame(all_cleared_df.groupby(['year'])['domestic'].\n",
    "                      apply(lambda x: (x == True).sum())).reset_index()\n",
    "total_dv = pd.merge(dv, dv_clr, on=['year']).rename(\n",
    "    columns={'domestic_x': 'dv_total', 'domestic_y': 'dv_clear'})"
   ]
  },
  {
   "cell_type": "code",
   "execution_count": null,
   "id": "2dd7d3fe",
   "metadata": {},
   "outputs": [],
   "source": [
    "total_commit_cleared = pd.melt(total_commit_cleared, id_vars=['year'],\n",
    "                               value_vars=['hom_total', 'clear_total'],\n",
    "                               var_name='case_status', value_name='Count')"
   ]
  },
  {
   "cell_type": "code",
   "execution_count": null,
   "id": "22726ffb",
   "metadata": {},
   "outputs": [],
   "source": [
    "total_firearm = pd.melt(total_firearm, id_vars=['year'],\n",
    "                        value_vars=['firearm_total', 'firearm_clear'],\n",
    "                        var_name='case_status', value_name='Count')"
   ]
  },
  {
   "cell_type": "code",
   "execution_count": null,
   "id": "5a85accf",
   "metadata": {},
   "outputs": [],
   "source": [
    "total_dv = pd.melt(total_dv, id_vars=['year'], value_vars=['dv_total', 'dv_clear'],\n",
    "                   var_name='case_status', value_name='Count')"
   ]
  },
  {
   "cell_type": "code",
   "execution_count": null,
   "id": "f9ce3150",
   "metadata": {},
   "outputs": [],
   "source": [
    "def line_subplots(df, ax_n):\n",
    "    plt.rcParams.update({'font.size': 9})\n",
    "    sns.set_style(\"darkgrid\")\n",
    "    sns.lineplot(data=df, x='year', y='Count',\n",
    "                 hue='case_status', ax=ax_n, linewidth=0.75, palette=['#34495e', '#3498db'])\n",
    "    ax_n.legend(loc='best')\n",
    "    ax_n.set_xlabel('Year')\n",
    "    ax_n.set_ylabel('Count')\n",
    "    ax_n.set_xticks(range(2001, 2022))\n",
    "    return"
   ]
  },
  {
   "cell_type": "code",
   "execution_count": null,
   "id": "eb5004c4",
   "metadata": {},
   "outputs": [],
   "source": [
    "def plot_annotate(ax_n, y1, y2, y3):\n",
    "    style = dict(size=10, color='red', alpha=0.75)\n",
    "    ax_n.axvline(2001, linestyle='dashed', color='red', alpha=0.25)\n",
    "    ax_n.axvline(2008, linestyle='dashed', color='red', alpha=0.25)\n",
    "    ax_n.axvline(2020, linestyle='dashed', color='red', alpha=0.25)\n",
    "    ax_n.text(2001, y1, '  9/11 Attack', ha='left',  **style)\n",
    "    ax_n.text(2008, y2, 'Financial Crisis Starts  ', ha='right',  **style)\n",
    "    ax_n.text(2020, y3, 'Covid-19 Lockdown  ', ha='right',  **style)\n",
    "    return"
   ]
  },
  {
   "cell_type": "code",
   "execution_count": null,
   "id": "9a4326ef",
   "metadata": {},
   "outputs": [],
   "source": [
    "fig, axes = plt.subplots(nrows=3, ncols=1, figsize=(12, 15))\n",
    "ax1, ax2, ax3 = axes.flatten()\n",
    "line_subplots(total_commit_cleared, ax1)\n",
    "line_subplots(total_firearm, ax2)\n",
    "line_subplots(total_dv, ax3)\n",
    "plot_annotate(ax1, 750, 650, 750)\n",
    "plot_annotate(ax2, 700, 600, 700)\n",
    "plot_annotate(ax3, 56, 52, 56)\n",
    "ax1.set_title('Total Homicides')\n",
    "ax2.set_title('Homicides Involving Firearms')\n",
    "ax3.set_title('Domestic Violence Homicides')\n",
    "plt.savefig(os.path.join(path, 'plots/static_plot_2.png'))"
   ]
  },
  {
   "cell_type": "markdown",
   "id": "5bea68a3",
   "metadata": {},
   "source": [
    "Sources:\n",
    "For heatmap: https://seaborn.pydata.org/generated/seaborn.heatmap.html;\n",
    "https://regenerativetoday.com/time-series-data-visualization-in-python/,\n",
    "For annotations:\n",
    "https://jessica-miles.medium.com/adding-annotations-to-visualizations-using-matplotlib-279e9c770baa\n",
    "https://matplotlib.org/stable/api/_as_gen/matplotlib.pyplot.axvline.html"
   ]
  },
  {
   "cell_type": "code",
   "execution_count": null,
   "id": "e5d273a9",
   "metadata": {},
   "outputs": [],
   "source": []
  },
  {
   "cell_type": "code",
   "execution_count": null,
   "id": "3627b4ac",
   "metadata": {},
   "outputs": [],
   "source": []
  }
 ],
 "metadata": {
  "kernelspec": {
   "display_name": "Python 3 (ipykernel)",
   "language": "python",
   "name": "python3"
  },
  "language_info": {
   "codemirror_mode": {
    "name": "ipython",
    "version": 3
   },
   "file_extension": ".py",
   "mimetype": "text/x-python",
   "name": "python",
   "nbconvert_exporter": "python",
   "pygments_lexer": "ipython3",
   "version": "3.9.12"
  }
 },
 "nbformat": 4,
 "nbformat_minor": 5
}
